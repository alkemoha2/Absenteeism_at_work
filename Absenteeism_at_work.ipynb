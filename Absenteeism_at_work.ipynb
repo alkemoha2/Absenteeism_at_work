{
 "cells": [
  {
   "cell_type": "markdown",
   "metadata": {},
   "source": [
    "# Absenteeism Data set"
   ]
  },
  {
   "cell_type": "code",
   "execution_count": 5,
   "metadata": {},
   "outputs": [
    {
     "data": {
      "text/html": [
       "<div>\n",
       "<style scoped>\n",
       "    .dataframe tbody tr th:only-of-type {\n",
       "        vertical-align: middle;\n",
       "    }\n",
       "\n",
       "    .dataframe tbody tr th {\n",
       "        vertical-align: top;\n",
       "    }\n",
       "\n",
       "    .dataframe thead th {\n",
       "        text-align: right;\n",
       "    }\n",
       "</style>\n",
       "<table border=\"1\" class=\"dataframe\">\n",
       "  <thead>\n",
       "    <tr style=\"text-align: right;\">\n",
       "      <th></th>\n",
       "      <th>ID</th>\n",
       "      <th>Reason for absence</th>\n",
       "      <th>Month of absence</th>\n",
       "      <th>Day of the week</th>\n",
       "      <th>Seasons</th>\n",
       "      <th>Transportation expense</th>\n",
       "      <th>Distance from Residence to Work</th>\n",
       "      <th>Service time</th>\n",
       "      <th>Age</th>\n",
       "      <th>Work load Average/day</th>\n",
       "      <th>...</th>\n",
       "      <th>Disciplinary failure</th>\n",
       "      <th>Education</th>\n",
       "      <th>Son</th>\n",
       "      <th>Social drinker</th>\n",
       "      <th>Social smoker</th>\n",
       "      <th>Pet</th>\n",
       "      <th>Weight</th>\n",
       "      <th>Height</th>\n",
       "      <th>Body mass index</th>\n",
       "      <th>Absenteeism time in hours</th>\n",
       "    </tr>\n",
       "  </thead>\n",
       "  <tbody>\n",
       "    <tr>\n",
       "      <th>0</th>\n",
       "      <td>11</td>\n",
       "      <td>26</td>\n",
       "      <td>7</td>\n",
       "      <td>3</td>\n",
       "      <td>1</td>\n",
       "      <td>289</td>\n",
       "      <td>36</td>\n",
       "      <td>13</td>\n",
       "      <td>33</td>\n",
       "      <td>239.554</td>\n",
       "      <td>...</td>\n",
       "      <td>0</td>\n",
       "      <td>1</td>\n",
       "      <td>2</td>\n",
       "      <td>1</td>\n",
       "      <td>0</td>\n",
       "      <td>1</td>\n",
       "      <td>90</td>\n",
       "      <td>172</td>\n",
       "      <td>30</td>\n",
       "      <td>4</td>\n",
       "    </tr>\n",
       "    <tr>\n",
       "      <th>1</th>\n",
       "      <td>36</td>\n",
       "      <td>0</td>\n",
       "      <td>7</td>\n",
       "      <td>3</td>\n",
       "      <td>1</td>\n",
       "      <td>118</td>\n",
       "      <td>13</td>\n",
       "      <td>18</td>\n",
       "      <td>50</td>\n",
       "      <td>239.554</td>\n",
       "      <td>...</td>\n",
       "      <td>1</td>\n",
       "      <td>1</td>\n",
       "      <td>1</td>\n",
       "      <td>1</td>\n",
       "      <td>0</td>\n",
       "      <td>0</td>\n",
       "      <td>98</td>\n",
       "      <td>178</td>\n",
       "      <td>31</td>\n",
       "      <td>0</td>\n",
       "    </tr>\n",
       "    <tr>\n",
       "      <th>2</th>\n",
       "      <td>3</td>\n",
       "      <td>23</td>\n",
       "      <td>7</td>\n",
       "      <td>4</td>\n",
       "      <td>1</td>\n",
       "      <td>179</td>\n",
       "      <td>51</td>\n",
       "      <td>18</td>\n",
       "      <td>38</td>\n",
       "      <td>239.554</td>\n",
       "      <td>...</td>\n",
       "      <td>0</td>\n",
       "      <td>1</td>\n",
       "      <td>0</td>\n",
       "      <td>1</td>\n",
       "      <td>0</td>\n",
       "      <td>0</td>\n",
       "      <td>89</td>\n",
       "      <td>170</td>\n",
       "      <td>31</td>\n",
       "      <td>2</td>\n",
       "    </tr>\n",
       "    <tr>\n",
       "      <th>3</th>\n",
       "      <td>7</td>\n",
       "      <td>7</td>\n",
       "      <td>7</td>\n",
       "      <td>5</td>\n",
       "      <td>1</td>\n",
       "      <td>279</td>\n",
       "      <td>5</td>\n",
       "      <td>14</td>\n",
       "      <td>39</td>\n",
       "      <td>239.554</td>\n",
       "      <td>...</td>\n",
       "      <td>0</td>\n",
       "      <td>1</td>\n",
       "      <td>2</td>\n",
       "      <td>1</td>\n",
       "      <td>1</td>\n",
       "      <td>0</td>\n",
       "      <td>68</td>\n",
       "      <td>168</td>\n",
       "      <td>24</td>\n",
       "      <td>4</td>\n",
       "    </tr>\n",
       "    <tr>\n",
       "      <th>4</th>\n",
       "      <td>11</td>\n",
       "      <td>23</td>\n",
       "      <td>7</td>\n",
       "      <td>5</td>\n",
       "      <td>1</td>\n",
       "      <td>289</td>\n",
       "      <td>36</td>\n",
       "      <td>13</td>\n",
       "      <td>33</td>\n",
       "      <td>239.554</td>\n",
       "      <td>...</td>\n",
       "      <td>0</td>\n",
       "      <td>1</td>\n",
       "      <td>2</td>\n",
       "      <td>1</td>\n",
       "      <td>0</td>\n",
       "      <td>1</td>\n",
       "      <td>90</td>\n",
       "      <td>172</td>\n",
       "      <td>30</td>\n",
       "      <td>2</td>\n",
       "    </tr>\n",
       "  </tbody>\n",
       "</table>\n",
       "<p>5 rows × 21 columns</p>\n",
       "</div>"
      ],
      "text/plain": [
       "   ID  Reason for absence  Month of absence  Day of the week  Seasons  \\\n",
       "0  11                  26                 7                3        1   \n",
       "1  36                   0                 7                3        1   \n",
       "2   3                  23                 7                4        1   \n",
       "3   7                   7                 7                5        1   \n",
       "4  11                  23                 7                5        1   \n",
       "\n",
       "   Transportation expense  Distance from Residence to Work  Service time  Age  \\\n",
       "0                     289                               36            13   33   \n",
       "1                     118                               13            18   50   \n",
       "2                     179                               51            18   38   \n",
       "3                     279                                5            14   39   \n",
       "4                     289                               36            13   33   \n",
       "\n",
       "   Work load Average/day   ...  Disciplinary failure  Education  Son  \\\n",
       "0                 239.554  ...                     0          1    2   \n",
       "1                 239.554  ...                     1          1    1   \n",
       "2                 239.554  ...                     0          1    0   \n",
       "3                 239.554  ...                     0          1    2   \n",
       "4                 239.554  ...                     0          1    2   \n",
       "\n",
       "   Social drinker  Social smoker  Pet  Weight  Height  Body mass index  \\\n",
       "0               1              0    1      90     172               30   \n",
       "1               1              0    0      98     178               31   \n",
       "2               1              0    0      89     170               31   \n",
       "3               1              1    0      68     168               24   \n",
       "4               1              0    1      90     172               30   \n",
       "\n",
       "   Absenteeism time in hours  \n",
       "0                          4  \n",
       "1                          0  \n",
       "2                          2  \n",
       "3                          4  \n",
       "4                          2  \n",
       "\n",
       "[5 rows x 21 columns]"
      ]
     },
     "execution_count": 5,
     "metadata": {},
     "output_type": "execute_result"
    }
   ],
   "source": [
    "#Load given Absenteeism data set into panda DataFrame\n",
    "#Look a few records to get familiarized with the data\n",
    "import pandas as pd\n",
    "import numpy as np \n",
    "import matplotlib.pyplot as plt\n",
    "from sklearn.model_selection import train_test_split\n",
    "from sklearn import metrics\n",
    "%matplotlib inline\n",
    "df_original=pd.read_csv('./Absenteeism_at_work.csv',sep=';')\n",
    "df_original.head()"
   ]
  },
  {
   "cell_type": "markdown",
   "metadata": {},
   "source": [
    "# Data Preprocessing"
   ]
  },
  {
   "cell_type": "code",
   "execution_count": 6,
   "metadata": {
    "scrolled": true
   },
   "outputs": [
    {
     "name": "stdout",
     "output_type": "stream",
     "text": [
      "<class 'pandas.core.frame.DataFrame'>\n",
      "RangeIndex: 740 entries, 0 to 739\n",
      "Data columns (total 21 columns):\n",
      "ID                                 740 non-null int64\n",
      "Reason for absence                 740 non-null int64\n",
      "Month of absence                   740 non-null int64\n",
      "Day of the week                    740 non-null int64\n",
      "Seasons                            740 non-null int64\n",
      "Transportation expense             740 non-null int64\n",
      "Distance from Residence to Work    740 non-null int64\n",
      "Service time                       740 non-null int64\n",
      "Age                                740 non-null int64\n",
      "Work load Average/day              740 non-null float64\n",
      "Hit target                         740 non-null int64\n",
      "Disciplinary failure               740 non-null int64\n",
      "Education                          740 non-null int64\n",
      "Son                                740 non-null int64\n",
      "Social drinker                     740 non-null int64\n",
      "Social smoker                      740 non-null int64\n",
      "Pet                                740 non-null int64\n",
      "Weight                             740 non-null int64\n",
      "Height                             740 non-null int64\n",
      "Body mass index                    740 non-null int64\n",
      "Absenteeism time in hours          740 non-null int64\n",
      "dtypes: float64(1), int64(20)\n",
      "memory usage: 121.5 KB\n"
     ]
    }
   ],
   "source": [
    "#Check all columns , their data types\n",
    "df_original.info()"
   ]
  },
  {
   "cell_type": "code",
   "execution_count": 7,
   "metadata": {},
   "outputs": [
    {
     "name": "stdout",
     "output_type": "stream",
     "text": [
      "<class 'pandas.core.frame.DataFrame'>\n",
      "RangeIndex: 740 entries, 0 to 739\n",
      "Data columns (total 21 columns):\n",
      "ID                                 740 non-null int64\n",
      "Reason for absence                 740 non-null category\n",
      "Month of absence                   740 non-null category\n",
      "Day of the week                    740 non-null category\n",
      "Seasons                            740 non-null category\n",
      "Transportation expense             740 non-null int64\n",
      "Distance from Residence to Work    740 non-null int64\n",
      "Service time                       740 non-null int64\n",
      "Age                                740 non-null int64\n",
      "Work load Average/day              740 non-null float64\n",
      "Hit target                         740 non-null int64\n",
      "Disciplinary failure               740 non-null bool\n",
      "Education                          740 non-null category\n",
      "Son                                740 non-null int64\n",
      "Social drinker                     740 non-null bool\n",
      "Social smoker                      740 non-null bool\n",
      "Pet                                740 non-null int64\n",
      "Weight                             740 non-null int64\n",
      "Height                             740 non-null int64\n",
      "Body mass index                    740 non-null int64\n",
      "Absenteeism time in hours          740 non-null int64\n",
      "dtypes: bool(3), category(5), float64(1), int64(12)\n",
      "memory usage: 83.8 KB\n"
     ]
    }
   ],
   "source": [
    "# Change data types of boolean and category columns appropriately\n",
    "df = df_original.copy()\n",
    "df['Social drinker'] = df['Social drinker'].astype('bool')\n",
    "df['Social smoker'] = df['Social smoker'].astype('bool')\n",
    "df['Disciplinary failure'] = df['Disciplinary failure'].astype('bool')\n",
    "df['Seasons'] = df['Seasons'].astype('category')\n",
    "df['Education'] = df['Education'].astype('category')\n",
    "df['Day of the week'] = df['Day of the week'].astype('category')\n",
    "df['Month of absence'] = df['Month of absence'].astype('category')\n",
    "df['Reason for absence'] = df['Reason for absence'].astype('category')\n",
    "\n",
    "df.info()"
   ]
  },
  {
   "cell_type": "code",
   "execution_count": 8,
   "metadata": {},
   "outputs": [
    {
     "data": {
      "text/plain": [
       "ID                                 0\n",
       "Reason for absence                 0\n",
       "Month of absence                   0\n",
       "Day of the week                    0\n",
       "Seasons                            0\n",
       "Transportation expense             0\n",
       "Distance from Residence to Work    0\n",
       "Service time                       0\n",
       "Age                                0\n",
       "Work load Average/day              0\n",
       "Hit target                         0\n",
       "Disciplinary failure               0\n",
       "Education                          0\n",
       "Son                                0\n",
       "Social drinker                     0\n",
       "Social smoker                      0\n",
       "Pet                                0\n",
       "Weight                             0\n",
       "Height                             0\n",
       "Body mass index                    0\n",
       "Absenteeism time in hours          0\n",
       "dtype: int64"
      ]
     },
     "execution_count": 8,
     "metadata": {},
     "output_type": "execute_result"
    }
   ],
   "source": [
    "#Check for any missing values\n",
    "df.isnull().sum()"
   ]
  },
  {
   "cell_type": "code",
   "execution_count": 9,
   "metadata": {},
   "outputs": [
    {
     "data": {
      "text/plain": [
       "737"
      ]
     },
     "execution_count": 9,
     "metadata": {},
     "output_type": "execute_result"
    }
   ],
   "source": [
    "#check for invalid data for e.g. Month of absence = 0\n",
    "df[df['Month of absence']==0]\n",
    "#Removing these records from dataframe\n",
    "df = df[df['Month of absence'] != 0]\n",
    "len(df)"
   ]
  },
  {
   "cell_type": "code",
   "execution_count": 10,
   "metadata": {},
   "outputs": [
    {
     "data": {
      "text/plain": [
       "41"
      ]
     },
     "execution_count": 10,
     "metadata": {},
     "output_type": "execute_result"
    }
   ],
   "source": [
    "len(df[df['Absenteeism time in hours']==0])"
   ]
  },
  {
   "cell_type": "code",
   "execution_count": 11,
   "metadata": {},
   "outputs": [
    {
     "data": {
      "text/plain": [
       "40"
      ]
     },
     "execution_count": 11,
     "metadata": {},
     "output_type": "execute_result"
    }
   ],
   "source": [
    "len(df[df['Disciplinary failure']==1])"
   ]
  },
  {
   "cell_type": "code",
   "execution_count": 12,
   "metadata": {},
   "outputs": [
    {
     "data": {
      "text/html": [
       "<div>\n",
       "<style scoped>\n",
       "    .dataframe tbody tr th:only-of-type {\n",
       "        vertical-align: middle;\n",
       "    }\n",
       "\n",
       "    .dataframe tbody tr th {\n",
       "        vertical-align: top;\n",
       "    }\n",
       "\n",
       "    .dataframe thead th {\n",
       "        text-align: right;\n",
       "    }\n",
       "</style>\n",
       "<table border=\"1\" class=\"dataframe\">\n",
       "  <thead>\n",
       "    <tr style=\"text-align: right;\">\n",
       "      <th></th>\n",
       "      <th>ID</th>\n",
       "      <th>Reason for absence</th>\n",
       "      <th>Month of absence</th>\n",
       "      <th>Day of the week</th>\n",
       "      <th>Seasons</th>\n",
       "      <th>Transportation expense</th>\n",
       "      <th>Distance from Residence to Work</th>\n",
       "      <th>Service time</th>\n",
       "      <th>Age</th>\n",
       "      <th>Work load Average/day</th>\n",
       "      <th>...</th>\n",
       "      <th>Disciplinary failure</th>\n",
       "      <th>Education</th>\n",
       "      <th>Son</th>\n",
       "      <th>Social drinker</th>\n",
       "      <th>Social smoker</th>\n",
       "      <th>Pet</th>\n",
       "      <th>Weight</th>\n",
       "      <th>Height</th>\n",
       "      <th>Body mass index</th>\n",
       "      <th>Absenteeism time in hours</th>\n",
       "    </tr>\n",
       "  </thead>\n",
       "  <tbody>\n",
       "    <tr>\n",
       "      <th>134</th>\n",
       "      <td>34</td>\n",
       "      <td>27</td>\n",
       "      <td>1</td>\n",
       "      <td>2</td>\n",
       "      <td>2</td>\n",
       "      <td>118</td>\n",
       "      <td>10</td>\n",
       "      <td>10</td>\n",
       "      <td>37</td>\n",
       "      <td>308.593</td>\n",
       "      <td>...</td>\n",
       "      <td>False</td>\n",
       "      <td>1</td>\n",
       "      <td>0</td>\n",
       "      <td>False</td>\n",
       "      <td>False</td>\n",
       "      <td>0</td>\n",
       "      <td>83</td>\n",
       "      <td>172</td>\n",
       "      <td>28</td>\n",
       "      <td>0</td>\n",
       "    </tr>\n",
       "  </tbody>\n",
       "</table>\n",
       "<p>1 rows × 21 columns</p>\n",
       "</div>"
      ],
      "text/plain": [
       "     ID Reason for absence Month of absence Day of the week Seasons  \\\n",
       "134  34                 27                1               2       2   \n",
       "\n",
       "     Transportation expense  Distance from Residence to Work  Service time  \\\n",
       "134                     118                               10            10   \n",
       "\n",
       "     Age  Work load Average/day   ...  Disciplinary failure  Education Son  \\\n",
       "134   37                 308.593  ...                 False          1   0   \n",
       "\n",
       "     Social drinker  Social smoker  Pet  Weight  Height  Body mass index  \\\n",
       "134           False          False    0      83     172               28   \n",
       "\n",
       "     Absenteeism time in hours  \n",
       "134                          0  \n",
       "\n",
       "[1 rows x 21 columns]"
      ]
     },
     "execution_count": 12,
     "metadata": {},
     "output_type": "execute_result"
    }
   ],
   "source": [
    "# Since there is one record in disciplinary failure = 1 which has absenteeism time = 0.\n",
    "df[(df['Absenteeism time in hours']==0) & (df['Disciplinary failure']!=1)]\n",
    "# It looks like a valid record for employee id 34. We can replace absenteeism time with the mean value of same ID."
   ]
  },
  {
   "cell_type": "code",
   "execution_count": 13,
   "metadata": {},
   "outputs": [
    {
     "data": {
      "text/plain": [
       "Absenteeism time in hours    6.254545\n",
       "dtype: float64"
      ]
     },
     "execution_count": 13,
     "metadata": {},
     "output_type": "execute_result"
    }
   ],
   "source": [
    "df[df['ID']==34][['Absenteeism time in hours']].mean()"
   ]
  },
  {
   "cell_type": "code",
   "execution_count": 14,
   "metadata": {},
   "outputs": [
    {
     "data": {
      "text/html": [
       "<div>\n",
       "<style scoped>\n",
       "    .dataframe tbody tr th:only-of-type {\n",
       "        vertical-align: middle;\n",
       "    }\n",
       "\n",
       "    .dataframe tbody tr th {\n",
       "        vertical-align: top;\n",
       "    }\n",
       "\n",
       "    .dataframe thead th {\n",
       "        text-align: right;\n",
       "    }\n",
       "</style>\n",
       "<table border=\"1\" class=\"dataframe\">\n",
       "  <thead>\n",
       "    <tr style=\"text-align: right;\">\n",
       "      <th></th>\n",
       "      <th>ID</th>\n",
       "      <th>Reason for absence</th>\n",
       "      <th>Month of absence</th>\n",
       "      <th>Day of the week</th>\n",
       "      <th>Seasons</th>\n",
       "      <th>Transportation expense</th>\n",
       "      <th>Distance from Residence to Work</th>\n",
       "      <th>Service time</th>\n",
       "      <th>Age</th>\n",
       "      <th>Work load Average/day</th>\n",
       "      <th>...</th>\n",
       "      <th>Disciplinary failure</th>\n",
       "      <th>Education</th>\n",
       "      <th>Son</th>\n",
       "      <th>Social drinker</th>\n",
       "      <th>Social smoker</th>\n",
       "      <th>Pet</th>\n",
       "      <th>Weight</th>\n",
       "      <th>Height</th>\n",
       "      <th>Body mass index</th>\n",
       "      <th>Absenteeism time in hours</th>\n",
       "    </tr>\n",
       "  </thead>\n",
       "  <tbody>\n",
       "    <tr>\n",
       "      <th>134</th>\n",
       "      <td>34</td>\n",
       "      <td>27</td>\n",
       "      <td>1</td>\n",
       "      <td>2</td>\n",
       "      <td>2</td>\n",
       "      <td>118</td>\n",
       "      <td>10</td>\n",
       "      <td>10</td>\n",
       "      <td>37</td>\n",
       "      <td>308.593</td>\n",
       "      <td>...</td>\n",
       "      <td>False</td>\n",
       "      <td>1</td>\n",
       "      <td>0</td>\n",
       "      <td>False</td>\n",
       "      <td>False</td>\n",
       "      <td>0</td>\n",
       "      <td>83</td>\n",
       "      <td>172</td>\n",
       "      <td>28</td>\n",
       "      <td>6</td>\n",
       "    </tr>\n",
       "  </tbody>\n",
       "</table>\n",
       "<p>1 rows × 21 columns</p>\n",
       "</div>"
      ],
      "text/plain": [
       "     ID Reason for absence Month of absence Day of the week Seasons  \\\n",
       "134  34                 27                1               2       2   \n",
       "\n",
       "     Transportation expense  Distance from Residence to Work  Service time  \\\n",
       "134                     118                               10            10   \n",
       "\n",
       "     Age  Work load Average/day   ...  Disciplinary failure  Education Son  \\\n",
       "134   37                 308.593  ...                 False          1   0   \n",
       "\n",
       "     Social drinker  Social smoker  Pet  Weight  Height  Body mass index  \\\n",
       "134           False          False    0      83     172               28   \n",
       "\n",
       "     Absenteeism time in hours  \n",
       "134                          6  \n",
       "\n",
       "[1 rows x 21 columns]"
      ]
     },
     "execution_count": 14,
     "metadata": {},
     "output_type": "execute_result"
    }
   ],
   "source": [
    "#Update this record with mean value of 6\n",
    "df.loc[(df['ID']==34) & (df['Absenteeism time in hours']==0),'Absenteeism time in hours']=6\n",
    "#Verify update\n",
    "df[(df['ID']==34) & (df['Absenteeism time in hours']==6)]\n"
   ]
  },
  {
   "cell_type": "code",
   "execution_count": 15,
   "metadata": {},
   "outputs": [
    {
     "data": {
      "text/plain": [
       "40"
      ]
     },
     "execution_count": 15,
     "metadata": {},
     "output_type": "execute_result"
    }
   ],
   "source": [
    "len(df[df['Disciplinary failure']==1])"
   ]
  },
  {
   "cell_type": "code",
   "execution_count": 16,
   "metadata": {},
   "outputs": [
    {
     "data": {
      "text/plain": [
       "0"
      ]
     },
     "execution_count": 16,
     "metadata": {},
     "output_type": "execute_result"
    }
   ],
   "source": [
    "#Update Absenteeism in hours as 8 for all the rows with Disciplinary failure assuming in \n",
    "#such situations, employees were asked to be absent\n",
    "df.loc[(df['Absenteeism time in hours']==0),'Absenteeism time in hours']=8\n",
    "len(df[df['Absenteeism time in hours']==0])"
   ]
  },
  {
   "cell_type": "code",
   "execution_count": 17,
   "metadata": {},
   "outputs": [],
   "source": [
    "#drop weight and height attributes since BMI is a derived attribute which has \n",
    "#information about both these attributes\n",
    "df=df.drop(['Weight'],axis=1)\n",
    "df=df.drop(['Height'],axis=1)"
   ]
  },
  {
   "cell_type": "markdown",
   "metadata": {},
   "source": [
    "# Exploratory Data Analysis\n"
   ]
  },
  {
   "cell_type": "code",
   "execution_count": 18,
   "metadata": {},
   "outputs": [
    {
     "name": "stdout",
     "output_type": "stream",
     "text": [
      "7.394843962008141\n"
     ]
    },
    {
     "data": {
      "text/plain": [
       "<seaborn.axisgrid.JointGrid at 0x1343a198>"
      ]
     },
     "execution_count": 18,
     "metadata": {},
     "output_type": "execute_result"
    },
    {
     "data": {
      "image/png": "[encoded data removed]",
      "text/plain": [
       "<Figure size 432x432 with 3 Axes>"
      ]
     },
     "metadata": {
      "needs_background": "light"
     },
     "output_type": "display_data"
    }
   ],
   "source": [
    "#Mean of absenteeism time by seasons\n",
    "import seaborn as sns\n",
    "print(df['Absenteeism time in hours'].mean())\n",
    "sns.jointplot(x='Absenteeism time in hours',y='Seasons',data=df)"
   ]
  },
  {
   "cell_type": "code",
   "execution_count": 19,
   "metadata": {},
   "outputs": [
    {
     "data": {
      "image/png": "[encoded data removed]",
      "text/plain": [
       "<Figure size 720x432 with 1 Axes>"
      ]
     },
     "metadata": {
      "needs_background": "light"
     },
     "output_type": "display_data"
    }
   ],
   "source": [
    "#Absenteeism time by Age\n",
    "#sns.jointplot(x='Age', y='Absenteeism time in hours',data=df)\n",
    "age_abs = df.groupby('Age')[['Absenteeism time in hours']].mean()\n",
    "ax = age_abs.plot(kind='bar', figsize=(10,6), legend=False)\n",
    "for i, v in enumerate(age_abs.values):\n",
    "    ax.text(i-.25, v + 1, str(np.int(np.round(v))), color='red')\n",
    "ax.set_ylabel('Absenteeism time in hours')\n",
    "ax.set_title('Average Absenteeism time in hours by age')\n",
    "plt.show()"
   ]
  },
  {
   "cell_type": "code",
   "execution_count": 20,
   "metadata": {},
   "outputs": [
    {
     "data": {
      "image/png": "[encoded data removed]",
      "text/plain": [
       "<Figure size 576x432 with 1 Axes>"
      ]
     },
     "metadata": {
      "needs_background": "light"
     },
     "output_type": "display_data"
    }
   ],
   "source": [
    "# Average work load per day by age\n",
    "age_work_sum = df.groupby('Age', as_index=False)[['Work load Average/day ']].mean()\n",
    "ax = age_work_sum.plot(kind='bar', x='Age', figsize=(8,6), legend=False)\n",
    "ax.set_ylabel('Work load average per day')\n",
    "ax.set_title('Average work load per day by age')\n",
    "plt.show()"
   ]
  },
  {
   "cell_type": "code",
   "execution_count": 21,
   "metadata": {},
   "outputs": [
    {
     "data": {
      "image/png": "[encoded data removed]",
      "text/plain": [
       "<Figure size 576x432 with 1 Axes>"
      ]
     },
     "metadata": {
      "needs_background": "light"
     },
     "output_type": "display_data"
    }
   ],
   "source": [
    "#Son and Pets by Age\n",
    "ax = df.groupby('Age')['Son', 'Pet'].sum().plot(figsize=(8,6))\n",
    "ax.set_ylabel('Count')\n",
    "ax.set_title('Count of Pet & Son by Age')\n",
    "plt.show()"
   ]
  },
  {
   "cell_type": "code",
   "execution_count": 22,
   "metadata": {},
   "outputs": [
    {
     "data": {
      "image/png": "[encoded data removed]",
      "text/plain": [
       "<Figure size 360x360 with 1 Axes>"
      ]
     },
     "metadata": {},
     "output_type": "display_data"
    }
   ],
   "source": [
    "#Absenteeism by Social driking and Smoking\n",
    "drink_sum = df[(df['Social drinker'] == 1) & (df['Social smoker']== 0)]['Absenteeism time in hours'].sum()\n",
    "smok_sum = df[(df['Social drinker'] == 0) & (df['Social smoker']== 1)]['Absenteeism time in hours'].sum()\n",
    "drink_smok_sum = df[(df['Social drinker'] == 1) & (df['Social smoker'] == 1)]['Absenteeism time in hours'].sum()\n",
    "abs_sum = df[(df['Social drinker'] == 0) & (df['Social smoker'] == 0)]['Absenteeism time in hours'].sum()\n",
    "\n",
    "absen = [drink_sum, smok_sum, drink_smok_sum, abs_sum]\n",
    "pie_labels = ['drinker', 'smoker', 'drinker & smoker', 'No drinker/smoker']\n",
    "fig1, ax1 = plt.subplots(figsize=(5, 5))\n",
    "fig1.subplots_adjust(0.3, 0, 1, 1)\n",
    " \n",
    "theme = plt.get_cmap('Blues')\n",
    "ax1.set_prop_cycle(\"color\", [theme(1. * i / len(absen))\n",
    "                             for i in range(len(absen))])\n",
    " \n",
    "_, _ = ax1.pie(absen, startangle=90, radius=1800)\n",
    " \n",
    "ax1.axis('equal')\n",
    "\n",
    "total = sum(absen)\n",
    "plt.legend(\n",
    "    loc='upper left',\n",
    "    labels=['%s, %1.1f%%' % (\n",
    "        l, (float(s) / total) * 100)\n",
    "            for l, s in zip(pie_labels, absen)],\n",
    "    prop={'size': 11},\n",
    "    bbox_to_anchor=(0.0, 1),\n",
    "    bbox_transform=fig1.transFigure\n",
    ")\n",
    "\n",
    "ax1.set_title('Absenteeism by Social Drinkers/Smokers')\n",
    "plt.show()\n"
   ]
  },
  {
   "cell_type": "code",
   "execution_count": 23,
   "metadata": {},
   "outputs": [
    {
     "data": {
      "text/plain": [
       "<seaborn.axisgrid.FacetGrid at 0x15716e10>"
      ]
     },
     "execution_count": 23,
     "metadata": {},
     "output_type": "execute_result"
    },
    {
     "data": {
      "text/plain": [
       "<Figure size 864x432 with 0 Axes>"
      ]
     },
     "metadata": {},
     "output_type": "display_data"
    },
    {
     "data": {
      "image/png": "[encoded data removed]",
      "text/plain": [
       "<Figure size 809.25x360 with 1 Axes>"
      ]
     },
     "metadata": {
      "needs_background": "light"
     },
     "output_type": "display_data"
    }
   ],
   "source": [
    "#Abesenteeism by day of the week\n",
    "plt.figure(figsize=(12,6))\n",
    "sns.lmplot(x='Age',y='Absenteeism time in hours',data=df,hue='Day of the week',height=5,aspect=2)"
   ]
  },
  {
   "cell_type": "code",
   "execution_count": 24,
   "metadata": {},
   "outputs": [
    {
     "data": {
      "text/plain": [
       "Reason for absence\n",
       "0       8\n",
       "1      64\n",
       "2      24\n",
       "3       8\n",
       "4       8\n",
       "5       8\n",
       "6     120\n",
       "7      40\n",
       "8       8\n",
       "9     112\n",
       "10     48\n",
       "11    120\n",
       "12    112\n",
       "13    120\n",
       "14     40\n",
       "15      8\n",
       "16      3\n",
       "17      8\n",
       "18     80\n",
       "19    104\n",
       "21      8\n",
       "22     16\n",
       "23     16\n",
       "24      8\n",
       "25      8\n",
       "26     16\n",
       "27      6\n",
       "28     24\n",
       "Name: Absenteeism time in hours, dtype: int64"
      ]
     },
     "execution_count": 24,
     "metadata": {},
     "output_type": "execute_result"
    }
   ],
   "source": [
    "roa = df.groupby('Reason for absence')\n",
    "roa['Absenteeism time in hours'].max()\n",
    "# Reason 6,9,11,12,13,19 are highest reasons for absenteeism"
   ]
  },
  {
   "cell_type": "code",
   "execution_count": 25,
   "metadata": {},
   "outputs": [
    {
     "data": {
      "text/plain": [
       "<matplotlib.axes._subplots.AxesSubplot at 0x1567f8d0>"
      ]
     },
     "execution_count": 25,
     "metadata": {},
     "output_type": "execute_result"
    },
    {
     "data": {
      "image/png": "[encoded data removed]",
      "text/plain": [
       "<Figure size 432x288 with 1 Axes>"
      ]
     },
     "metadata": {
      "needs_background": "light"
     },
     "output_type": "display_data"
    }
   ],
   "source": [
    "sns.countplot(x='Absenteeism time in hours',data=df)"
   ]
  },
  {
   "cell_type": "code",
   "execution_count": 26,
   "metadata": {},
   "outputs": [
    {
     "data": {
      "image/png": "[encoded data removed]",
      "text/plain": [
       "<Figure size 648x648 with 2 Axes>"
      ]
     },
     "metadata": {
      "needs_background": "light"
     },
     "output_type": "display_data"
    }
   ],
   "source": [
    "#Let's see how other columns are correlated to target variable Absenteeism hours in a heat map. \n",
    "def correlation_heatmap(li):\n",
    "    correlations = li.corr()\n",
    "\n",
    "    fig, ax = plt.subplots(figsize=(9,9))\n",
    "    sns.heatmap(correlations, vmax=1.0, center=0, fmt='.2f',cmap='Blues',\n",
    "                square=True, linewidths=.5, annot=True, cbar_kws={\"shrink\": .70})\n",
    "    plt.show();\n",
    "    \n",
    "correlation_heatmap(df[['Age','Education','Seasons','Transportation expense' ,'Month of absence','Distance from Residence to Work','Service time','Work load Average/day ','Body mass index','Hit target','Absenteeism time in hours']])"
   ]
  },
  {
   "cell_type": "code",
   "execution_count": 27,
   "metadata": {},
   "outputs": [
    {
     "data": {
      "text/plain": [
       "<matplotlib.axes._subplots.AxesSubplot at 0x158bf4e0>"
      ]
     },
     "execution_count": 27,
     "metadata": {},
     "output_type": "execute_result"
    },
    {
     "data": {
      "image/png": "[encoded data removed]",
      "text/plain": [
       "<Figure size 432x288 with 1 Axes>"
      ]
     },
     "metadata": {
      "needs_background": "light"
     },
     "output_type": "display_data"
    }
   ],
   "source": [
    "#box plot for absenteeism hours to show outliers\n",
    "df.boxplot('Absenteeism time in hours')"
   ]
  },
  {
   "cell_type": "markdown",
   "metadata": {},
   "source": [
    "# Regression models"
   ]
  },
  {
   "cell_type": "code",
   "execution_count": 28,
   "metadata": {},
   "outputs": [],
   "source": [
    "#creating a function for printing r-2 score and RMSE\n",
    "from sklearn.metrics import r2_score, mean_squared_error as MSE\n",
    "import warnings\n",
    "warnings.filterwarnings('ignore')\n",
    "def R2ScoreRMSE(y_test,y_pred):\n",
    "    test_score = r2_score(y_test, y_pred)\n",
    "    rmse_test = MSE(y_test, y_pred) ** (1/2)\n",
    "    print(f'Test R-2 score: {test_score:>5.3}')\n",
    "    print(f'Test RMSE     : {rmse_test:.4f}')\n"
   ]
  },
  {
   "cell_type": "code",
   "execution_count": 29,
   "metadata": {},
   "outputs": [
    {
     "name": "stdout",
     "output_type": "stream",
     "text": [
      "Test R-2 score: 0.125\n",
      "Test RMSE     : 10.8969\n"
     ]
    }
   ],
   "source": [
    "#Since the problem statement asks to predict number of absenteeism hours, trying out regression model first\n",
    "#We will build model using RandomForestRegressor and LinearRegression\n",
    "#First we are using RandomForestRegressor\n",
    "from sklearn.ensemble import RandomForestRegressor\n",
    "from sklearn.preprocessing import OneHotEncoder\n",
    "from sklearn import preprocessing\n",
    "#following features are dropped:\n",
    "#  1) ID    \n",
    "#  2) Weight  --> BMI covers this feature\n",
    "#  3) Height  --> BMI covers this feature\n",
    "df_features = df[['Reason for absence', 'Month of absence', 'Day of the week', 'Seasons', \n",
    "                  'Transportation expense','Distance from Residence to Work', 'Service time', \n",
    "                  'Age', 'Work load Average/day ', 'Hit target','Disciplinary failure', 'Education', \n",
    "                  'Son', 'Social drinker', 'Social smoker', 'Pet', 'Body mass index' ]]\n",
    "X = df_features\n",
    "y = df['Absenteeism time in hours']\n",
    "X_train, X_test, y_train, y_test = train_test_split(X, y, test_size=0.3, random_state=0)\n",
    "model = RandomForestRegressor(n_estimators=1000, random_state=0, oob_score=True, n_jobs=-1)\n",
    "model.fit(X_train,y_train) \n",
    "y_pred = model.predict(X_test)\n",
    "\n",
    "#Accuracy score evaluation\n",
    "R2ScoreRMSE(y_test,y_pred)"
   ]
  },
  {
   "cell_type": "code",
   "execution_count": 30,
   "metadata": {},
   "outputs": [
    {
     "data": {
      "image/png": "[encoded data removed]",
      "text/plain": [
       "<Figure size 576x432 with 1 Axes>"
      ]
     },
     "metadata": {
      "needs_background": "light"
     },
     "output_type": "display_data"
    }
   ],
   "source": [
    "# RMSE score is too high and also R-2 score is very low.\n",
    "#Let's check the importance of features in the model\n",
    "ax = (pd.Series(model.feature_importances_, index=X.columns)\n",
    "   .nlargest(19)\n",
    "   .plot(kind='barh', figsize=(8,6), color='lightblue'))\n",
    "plt.show()"
   ]
  },
  {
   "cell_type": "code",
   "execution_count": 31,
   "metadata": {},
   "outputs": [
    {
     "name": "stdout",
     "output_type": "stream",
     "text": [
      "Test R-2 score: 0.147\n",
      "Test RMSE     : 10.7642\n"
     ]
    }
   ],
   "source": [
    "# LinearRegression Moddel\n",
    "from sklearn.linear_model import LinearRegression\n",
    "from sklearn.preprocessing import StandardScaler\n",
    "\n",
    "X = df_features\n",
    "y = df['Absenteeism time in hours']\n",
    "X_train, X_test, y_train, y_test = train_test_split(X, y, test_size=0.3, random_state=0)\n",
    "model =LinearRegression()\n",
    "a = model.fit(X_train, y_train)\n",
    "y_pred = model.predict(X_test)\n",
    "\n",
    "#Accuracy score evaluation\n",
    "R2ScoreRMSE(y_test,y_pred)"
   ]
  },
  {
   "cell_type": "code",
   "execution_count": 32,
   "metadata": {},
   "outputs": [
    {
     "name": "stdout",
     "output_type": "stream",
     "text": [
      "Test R-2 score: 0.367\n",
      "Test RMSE     : 3.3475\n"
     ]
    }
   ],
   "source": [
    "# LinearRegression Moddel\n",
    "# if we exclude outlier absenteeism hours, we are able to improve the scores\n",
    "# we have encoded categorical values using get_dummies. Total features increased to 75 because of this.\n",
    "# We have scaled all the columns using StandardScaler\n",
    "from sklearn.linear_model import LinearRegression\n",
    "from sklearn.preprocessing import StandardScaler\n",
    "\n",
    "# exclude rows having outliers\n",
    "df_excluding_outliers = df_original[df_original['Absenteeism time in hours']<=24]\n",
    "\n",
    "df_features_excluding_outliers = df_excluding_outliers[['Reason for absence', 'Month of absence', 'Day of the week', 'Seasons', \n",
    "                  'Transportation expense','Distance from Residence to Work', 'Service time', \n",
    "                  'Age', 'Work load Average/day ', 'Hit target','Disciplinary failure', 'Education', \n",
    "                  'Son', 'Social drinker', 'Social smoker', 'Pet', 'Body mass index' ]]\n",
    "\n",
    "# encode categorical attributes\n",
    "cols_to_transform = ['Reason for absence','Month of absence', 'Day of the week', 'Seasons','Education','Son','Pet' ]\n",
    "df_features_excluding_outliers = pd.get_dummies(df_features_excluding_outliers, columns = cols_to_transform )\n",
    "\n",
    "# scale all the attributes\n",
    "X = df_features_excluding_outliers\n",
    "autoscaler = StandardScaler()\n",
    "X_scaled = autoscaler.fit_transform(X)\n",
    "\n",
    "\n",
    "y = df_excluding_outliers['Absenteeism time in hours']\n",
    "X_train, X_test, y_train, y_test = train_test_split(X_scaled, y, test_size=0.3, random_state=0)\n",
    "model =LinearRegression()\n",
    "a = model.fit(X_train, y_train)\n",
    "y_pred = model.predict(X_test)\n",
    "\n",
    "#Accuracy score evaluation\n",
    "R2ScoreRMSE(y_test,y_pred)"
   ]
  },
  {
   "cell_type": "code",
   "execution_count": 33,
   "metadata": {},
   "outputs": [
    {
     "name": "stdout",
     "output_type": "stream",
     "text": [
      "<class 'pandas.core.frame.DataFrame'>\n",
      "Int64Index: 712 entries, 0 to 739\n",
      "Data columns (total 75 columns):\n",
      "Transportation expense             712 non-null int64\n",
      "Distance from Residence to Work    712 non-null int64\n",
      "Service time                       712 non-null int64\n",
      "Age                                712 non-null int64\n",
      "Work load Average/day              712 non-null float64\n",
      "Hit target                         712 non-null int64\n",
      "Disciplinary failure               712 non-null int64\n",
      "Social drinker                     712 non-null int64\n",
      "Social smoker                      712 non-null int64\n",
      "Body mass index                    712 non-null int64\n",
      "Reason for absence_0               712 non-null uint8\n",
      "Reason for absence_1               712 non-null uint8\n",
      "Reason for absence_2               712 non-null uint8\n",
      "Reason for absence_3               712 non-null uint8\n",
      "Reason for absence_4               712 non-null uint8\n",
      "Reason for absence_5               712 non-null uint8\n",
      "Reason for absence_6               712 non-null uint8\n",
      "Reason for absence_7               712 non-null uint8\n",
      "Reason for absence_8               712 non-null uint8\n",
      "Reason for absence_9               712 non-null uint8\n",
      "Reason for absence_10              712 non-null uint8\n",
      "Reason for absence_11              712 non-null uint8\n",
      "Reason for absence_12              712 non-null uint8\n",
      "Reason for absence_13              712 non-null uint8\n",
      "Reason for absence_14              712 non-null uint8\n",
      "Reason for absence_15              712 non-null uint8\n",
      "Reason for absence_16              712 non-null uint8\n",
      "Reason for absence_17              712 non-null uint8\n",
      "Reason for absence_18              712 non-null uint8\n",
      "Reason for absence_19              712 non-null uint8\n",
      "Reason for absence_21              712 non-null uint8\n",
      "Reason for absence_22              712 non-null uint8\n",
      "Reason for absence_23              712 non-null uint8\n",
      "Reason for absence_24              712 non-null uint8\n",
      "Reason for absence_25              712 non-null uint8\n",
      "Reason for absence_26              712 non-null uint8\n",
      "Reason for absence_27              712 non-null uint8\n",
      "Reason for absence_28              712 non-null uint8\n",
      "Month of absence_0                 712 non-null uint8\n",
      "Month of absence_1                 712 non-null uint8\n",
      "Month of absence_2                 712 non-null uint8\n",
      "Month of absence_3                 712 non-null uint8\n",
      "Month of absence_4                 712 non-null uint8\n",
      "Month of absence_5                 712 non-null uint8\n",
      "Month of absence_6                 712 non-null uint8\n",
      "Month of absence_7                 712 non-null uint8\n",
      "Month of absence_8                 712 non-null uint8\n",
      "Month of absence_9                 712 non-null uint8\n",
      "Month of absence_10                712 non-null uint8\n",
      "Month of absence_11                712 non-null uint8\n",
      "Month of absence_12                712 non-null uint8\n",
      "Day of the week_2                  712 non-null uint8\n",
      "Day of the week_3                  712 non-null uint8\n",
      "Day of the week_4                  712 non-null uint8\n",
      "Day of the week_5                  712 non-null uint8\n",
      "Day of the week_6                  712 non-null uint8\n",
      "Seasons_1                          712 non-null uint8\n",
      "Seasons_2                          712 non-null uint8\n",
      "Seasons_3                          712 non-null uint8\n",
      "Seasons_4                          712 non-null uint8\n",
      "Education_1                        712 non-null uint8\n",
      "Education_2                        712 non-null uint8\n",
      "Education_3                        712 non-null uint8\n",
      "Education_4                        712 non-null uint8\n",
      "Son_0                              712 non-null uint8\n",
      "Son_1                              712 non-null uint8\n",
      "Son_2                              712 non-null uint8\n",
      "Son_3                              712 non-null uint8\n",
      "Son_4                              712 non-null uint8\n",
      "Pet_0                              712 non-null uint8\n",
      "Pet_1                              712 non-null uint8\n",
      "Pet_2                              712 non-null uint8\n",
      "Pet_4                              712 non-null uint8\n",
      "Pet_5                              712 non-null uint8\n",
      "Pet_8                              712 non-null uint8\n",
      "dtypes: float64(1), int64(9), uint8(65)\n",
      "memory usage: 106.4 KB\n"
     ]
    }
   ],
   "source": [
    "df_features_excluding_outliers.info()"
   ]
  },
  {
   "cell_type": "code",
   "execution_count": 34,
   "metadata": {},
   "outputs": [
    {
     "name": "stdout",
     "output_type": "stream",
     "text": [
      "Num Features: 38\n",
      "Selected Features: [False False False False False False  True False False False  True False\n",
      " False False False False False False False False False False False False\n",
      " False False False False False False False False False False False False\n",
      " False False  True  True  True  True  True  True  True  True  True  True\n",
      "  True  True False  True  True  True  True  True  True  True  True  True\n",
      "  True  True  True  True  True  True  True  True  True  True  True  True\n",
      "  True  True  True]\n",
      "Feature Ranking: [30 33 32 31 35 38  1 36 34 37  1 15 29 27 26 22 12 20 11 28 19  7 25 16\n",
      " 10 21  8 24 18 13  9 17  3 23  6 14  5  4  1  1  1  1  1  1  1  1  1  1\n",
      "  1  1  2  1  1  1  1  1  1  1  1  1  1  1  1  1  1  1  1  1  1  1  1  1\n",
      "  1  1  1]\n",
      "Test R-2 score: 0.127\n",
      "Test RMSE     : 3.9322\n"
     ]
    }
   ],
   "source": [
    "# Linear Regression Model with Feature reduction\n",
    "# skipping some of the features by using Recursive Feature Elimination (RFE) \n",
    "# We tried with various number of features and found that with 38 features we get \n",
    "# best balance between good R-2 score with less number of features.\n",
    "\n",
    "from sklearn.feature_selection import RFE\n",
    "from sklearn.linear_model import LogisticRegression\n",
    "from sklearn.linear_model import LinearRegression\n",
    "\n",
    "X = df_features_excluding_outliers\n",
    "autoscaler = StandardScaler()\n",
    "X_scaled = autoscaler.fit_transform(X)\n",
    "y = df_excluding_outliers['Absenteeism time in hours']\n",
    "X_train, X_test, y_train, y_test = train_test_split(X_scaled, y, test_size=0.3, random_state=0)\n",
    "\n",
    "model = LinearRegression()\n",
    "model = RFE(model, 38)\n",
    "fit = model.fit(X_train, y_train)\n",
    "print(\"Num Features: %s\" % (fit.n_features_))\n",
    "print(\"Selected Features: %s\" % (fit.support_))\n",
    "print(\"Feature Ranking: %s\" % (fit.ranking_))\n",
    "y_pred = model.predict(X_test)\n",
    "\n",
    "#Accuracy score evaluation\n",
    "R2ScoreRMSE(y_test,y_pred)"
   ]
  },
  {
   "cell_type": "markdown",
   "metadata": {},
   "source": [
    "# Classification Models"
   ]
  },
  {
   "cell_type": "code",
   "execution_count": 35,
   "metadata": {},
   "outputs": [
    {
     "name": "stdout",
     "output_type": "stream",
     "text": [
      "Accuracy: 0.7387387387387387\n"
     ]
    }
   ],
   "source": [
    "#Since we are not able to improve sores using Regression models,\n",
    "#Let's convert the target variable to categorical variable to predict in classification model\n",
    "#using RandomForestClassifier\n",
    "from sklearn.ensemble import RandomForestClassifier\n",
    "from sklearn.metrics import classification_report\n",
    "\n",
    "# Creating 4 absenteeism hour classes:\n",
    "# absent_class = 0: absent for upto 4 hours\n",
    "# absent_class = 1: absent for more then 4 hours not exceeding 8 hours\n",
    "# absent_class = 2: absent for more then 8 hours not exceeding 24 hours\n",
    "# absent_class = 3: absent for more then 24 hours\n",
    "df_features = df[['Reason for absence', 'Month of absence', 'Day of the week', 'Seasons', \n",
    "                  'Transportation expense','Distance from Residence to Work', 'Service time', \n",
    "                  'Age', 'Work load Average/day ', 'Hit target','Disciplinary failure', 'Education', \n",
    "                  'Son', 'Social drinker', 'Social smoker', 'Pet', 'Body mass index' ]]\n",
    "\n",
    "aba=[]\n",
    "for i in df['Absenteeism time in hours']:\n",
    "    if i <= 4:\n",
    "        aba.append(0)\n",
    "    elif i <= 8:\n",
    "        aba.append(1)\n",
    "    elif i<=24:\n",
    "        aba.append(2)\n",
    "    else:\n",
    "        aba.append(3)\n",
    "df['absent_class']=aba\n",
    "\n",
    "X = df_features\n",
    "y = df['absent_class']\n",
    "X_train, X_test, y_train, y_test = train_test_split(X, y, test_size=0.3, random_state=42)\n",
    "\n",
    "model = RandomForestClassifier(n_estimators=100, random_state=0, oob_score=True, n_jobs=-1)\n",
    "model.fit(X_train,y_train)\n",
    "y_pred = model.predict(X_test)\n",
    "\n",
    "print(\"Accuracy:\",metrics.accuracy_score(y_test, y_pred))"
   ]
  },
  {
   "cell_type": "code",
   "execution_count": 36,
   "metadata": {
    "scrolled": true
   },
   "outputs": [
    {
     "name": "stdout",
     "output_type": "stream",
     "text": [
      "              precision    recall  f1-score   support\n",
      "\n",
      "           0       0.80      0.87      0.83       130\n",
      "           1       0.68      0.62      0.64        78\n",
      "           2       0.25      0.11      0.15         9\n",
      "           3       0.40      0.40      0.40         5\n",
      "\n",
      "   micro avg       0.74      0.74      0.74       222\n",
      "   macro avg       0.53      0.50      0.51       222\n",
      "weighted avg       0.72      0.74      0.73       222\n",
      "\n"
     ]
    }
   ],
   "source": [
    "print(classification_report(y_test, y_pred))"
   ]
  },
  {
   "cell_type": "code",
   "execution_count": 37,
   "metadata": {},
   "outputs": [
    {
     "data": {
      "image/png": "[encoded data removed]",
      "text/plain": [
       "<Figure size 576x432 with 1 Axes>"
      ]
     },
     "metadata": {
      "needs_background": "light"
     },
     "output_type": "display_data"
    }
   ],
   "source": [
    "#Contributions of features in the above model\n",
    "ax = (pd.Series(model.feature_importances_, index=X.columns)\n",
    "   .nlargest(19)\n",
    "   .plot(kind='barh', figsize=(8,6), color='orange'))\n",
    "plt.title('Contributions of Features')\n",
    "plt.show()"
   ]
  },
  {
   "cell_type": "code",
   "execution_count": 38,
   "metadata": {},
   "outputs": [],
   "source": [
    "#Using  Naive Bayes model\n",
    "from sklearn.naive_bayes import GaussianNB\n",
    "#Create a Gaussian Classifier\n",
    "gnb = GaussianNB()\n",
    "\n",
    "#Train the model using the training sets\n",
    "gnb.fit(X_train, y_train)\n",
    "\n",
    "#Predict the response for test dataset\n",
    "y_pred = gnb.predict(X_test)"
   ]
  },
  {
   "cell_type": "code",
   "execution_count": 39,
   "metadata": {},
   "outputs": [
    {
     "name": "stdout",
     "output_type": "stream",
     "text": [
      "Accuracy: 0.6126126126126126\n"
     ]
    }
   ],
   "source": [
    "print(\"Accuracy:\",metrics.accuracy_score(y_test, y_pred))"
   ]
  },
  {
   "cell_type": "code",
   "execution_count": 40,
   "metadata": {},
   "outputs": [
    {
     "name": "stdout",
     "output_type": "stream",
     "text": [
      "              precision    recall  f1-score   support\n",
      "\n",
      "           0       0.70      0.91      0.79       130\n",
      "           1       1.00      0.17      0.29        78\n",
      "           2       0.17      0.33      0.22         9\n",
      "           3       0.09      0.40      0.15         5\n",
      "\n",
      "   micro avg       0.61      0.61      0.61       222\n",
      "   macro avg       0.49      0.45      0.36       222\n",
      "weighted avg       0.77      0.61      0.57       222\n",
      "\n"
     ]
    }
   ],
   "source": [
    "print(classification_report(y_test, y_pred))"
   ]
  },
  {
   "cell_type": "code",
   "execution_count": 41,
   "metadata": {},
   "outputs": [],
   "source": [
    "#Using Decision Tree classifier\n",
    "from sklearn.tree import DecisionTreeClassifier\n",
    "\n",
    "clf_gini = DecisionTreeClassifier(criterion = \"gini\", random_state = 100,\n",
    "                               max_depth=3, min_samples_leaf=5)\n",
    "clf_gini.fit(X_train, y_train)\n",
    "\n",
    "y_pred = clf_gini.predict(X_test)"
   ]
  },
  {
   "cell_type": "code",
   "execution_count": 42,
   "metadata": {},
   "outputs": [
    {
     "name": "stdout",
     "output_type": "stream",
     "text": [
      "Accuracy: 0.7702702702702703\n"
     ]
    }
   ],
   "source": [
    "print(\"Accuracy:\",metrics.accuracy_score(y_test, y_pred))"
   ]
  },
  {
   "cell_type": "code",
   "execution_count": 43,
   "metadata": {},
   "outputs": [
    {
     "name": "stdout",
     "output_type": "stream",
     "text": [
      "              precision    recall  f1-score   support\n",
      "\n",
      "           0       0.87      0.82      0.85       130\n",
      "           1       0.65      0.82      0.72        78\n",
      "           2       0.00      0.00      0.00         9\n",
      "           3       0.00      0.00      0.00         5\n",
      "\n",
      "   micro avg       0.77      0.77      0.77       222\n",
      "   macro avg       0.38      0.41      0.39       222\n",
      "weighted avg       0.74      0.77      0.75       222\n",
      "\n"
     ]
    }
   ],
   "source": [
    "print(classification_report(y_test, y_pred))"
   ]
  },
  {
   "cell_type": "code",
   "execution_count": null,
   "metadata": {},
   "outputs": [],
   "source": []
  }
 ],
 "metadata": {
  "kernelspec": {
   "display_name": "Python 3",
   "language": "python",
   "name": "python3"
  },
  "language_info": {
   "codemirror_mode": {
    "name": "ipython",
    "version": 3
   },
   "file_extension": ".py",
   "mimetype": "text/x-python",
   "name": "python",
   "nbconvert_exporter": "python",
   "pygments_lexer": "ipython3",
   "version": "3.7.3"
  }
 },
 "nbformat": 4,
 "nbformat_minor": 2
}
